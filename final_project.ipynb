{
 "cells": [
  {
   "cell_type": "code",
   "execution_count": 1,
   "metadata": {},
   "outputs": [],
   "source": [
    "%matplotlib inline\n",
    "import fsps\n",
    "import matplotlib.pyplot as plt\n",
    "import numpy as np"
   ]
  },
  {
   "cell_type": "markdown",
   "metadata": {},
   "source": [
    "* add_igm_absorption includes IGM absorption via Madau 1995\n",
    "* zred is redshift\n",
    "* zmet = 1.0 by default, metallicity \n",
    "* sfh = 0 is SSP model (all stars have same age and metallicity) \n",
    "* tage = Myr age\n",
    "* sfh = tabular sfr per year since big bang\n",
    "* dust_type = 2; See Calzetti et al 2000. Dust attenuation is applied to all starlight equally (old and new). This is set by dust_2\n",
    "* dust_2 small attenuation due to ISM dust for all stars. "
   ]
  },
  {
   "cell_type": "code",
   "execution_count": 2,
   "metadata": {},
   "outputs": [],
   "source": [
    "sp = fsps.StellarPopulation(zred=3., const=1.0, sfh=3, tage=0.5, add_igm_absorption=True,\n",
    "                            zmet = 1., dust1=0.0, dust2=0.1, dust_type=2 )"
   ]
  },
  {
   "cell_type": "markdown",
   "metadata": {},
   "source": [
    "Create arrays of age since big bang in Gyr and the constant star formation rate of 5 solar mass / yr."
   ]
  },
  {
   "cell_type": "code",
   "execution_count": 3,
   "metadata": {},
   "outputs": [],
   "source": [
    "a = np.arange(0.1, 0.6, 0.1)\n",
    "sfr = np.full(5, 5.0)"
   ]
  },
  {
   "cell_type": "markdown",
   "metadata": {},
   "source": [
    "Set the star formation history with a constant star formation rate."
   ]
  },
  {
   "cell_type": "code",
   "execution_count": 4,
   "metadata": {},
   "outputs": [],
   "source": [
    "sp.set_tabular_sfh(age = a, sfr = sfr)"
   ]
  },
  {
   "cell_type": "markdown",
   "metadata": {},
   "source": [
    "Below we print the AB magnitudes in desired bands. They are extremely faint right now and I think this is because the star formation rate is by default normalized to 1. I need to figure out how to make it 5. "
   ]
  },
  {
   "cell_type": "code",
   "execution_count": 5,
   "metadata": {},
   "outputs": [
    {
     "name": "stdout",
     "output_type": "stream",
     "text": [
      "HST F435W:  25.685180586652734\n",
      "HST F606W:  25.194646169018057\n",
      "HST F775W:  25.245591101064576\n",
      "HST F850LP:  25.313704531210405\n",
      "HST F105W:  25.38336539406353\n",
      "HST F125W:  25.46820026206371\n",
      "HST F160W:  25.3068973512635\n",
      "JWST F200W:  25.295006040237567\n",
      "JWST F277W:  25.480190802455958\n",
      "JWST F356W:  25.567011528475433\n",
      "JWST F444W:  25.641540680718585\n"
     ]
    }
   ],
   "source": [
    "mags = sp.get_mags(zmet = 1., tage=0.5, bands=['wfc_acs_f435w', 'wfc_acs_f606w', 'wfc_acs_f775w', 'wfc_acs_f850lp', 'wfc3_ir_f105w', 'wfc3_ir_f125w', 'wfc3_ir_f160w', 'jwst_f200w', 'jwst_f277w', 'jwst_f356w', 'jwst_f444w'])\n",
    "print 'HST F435W: ', mags[0]\n",
    "print 'HST F606W: ', mags[1]\n",
    "print 'HST F775W: ', mags[2]\n",
    "print 'HST F850LP: ', mags[3]\n",
    "print 'HST F105W: ', mags[4]\n",
    "print 'HST F125W: ', mags[5]\n",
    "print 'HST F160W: ', mags[6]\n",
    "print 'JWST F200W: ', mags[7]\n",
    "print 'JWST F277W: ', mags[8]\n",
    "print 'JWST F356W: ', mags[9]\n",
    "print 'JWST F444W: ', mags[10]"
   ]
  },
  {
   "cell_type": "code",
   "execution_count": 6,
   "metadata": {},
   "outputs": [],
   "source": [
    "wave, spec = sp.get_spectrum(zmet = 1., tage = 0.5)"
   ]
  },
  {
   "cell_type": "code",
   "execution_count": 7,
   "metadata": {},
   "outputs": [
    {
     "name": "stdout",
     "output_type": "stream",
     "text": [
      "8.03485249278e+26\n"
     ]
    },
    {
     "data": {
      "text/latex": [
       "$26039.184 \\; \\mathrm{Mpc}$"
      ],
      "text/plain": [
       "<Quantity 26039.18355256 Mpc>"
      ]
     },
     "execution_count": 7,
     "metadata": {},
     "output_type": "execute_result"
    }
   ],
   "source": [
    "from astropy.cosmology import Planck15 as cosmo\n",
    "import astropy.units as u\n",
    "r=cosmo.luminosity_distance(3).to(u.m).value\n",
    "print r\n",
    "cosmo.luminosity_distance(3)"
   ]
  },
  {
   "cell_type": "code",
   "execution_count": 8,
   "metadata": {},
   "outputs": [],
   "source": [
    "spec = spec * (3.828E26) # L_sol/Hz to W/Hz\n",
    "spec = spec / (1.0E-26) # W/Hz to Jy*m^2 (1 Jy = 10^-26 W/Hz/m^2)\n",
    "spec = spec / (1.0E-6) # convert to microJy\n",
    "spec = spec / (4*np.pi*(r**2)) # divide by surface area from galaxy Jy*m^2 to Jy\n",
    "# print spec\n",
    "# \n",
    "# print spec\n",
    "# spec = spec / (1.0E-6) # convert to microJy\n",
    "# print spec"
   ]
  },
  {
   "cell_type": "code",
   "execution_count": 9,
   "metadata": {},
   "outputs": [],
   "source": [
    "lyman_lim=912. #angstroms"
   ]
  },
  {
   "cell_type": "code",
   "execution_count": 10,
   "metadata": {},
   "outputs": [
    {
     "name": "stderr",
     "output_type": "stream",
     "text": [
      "/Users/fardila/anaconda/envs/radiation/lib/python2.7/site-packages/matplotlib/axes/_base.py:2966: UserWarning: Attempted to set non-positive xlimits for log-scale axis; invalid limits will be ignored.\n",
      "  'Attempted to set non-positive xlimits for log-scale axis; '\n"
     ]
    },
    {
     "data": {
      "text/plain": [
       "(1e-10, 1.0)"
      ]
     },
     "execution_count": 10,
     "metadata": {},
     "output_type": "execute_result"
    },
    {
     "data": {
      "image/png": "[encoded data removed]",
      "text/plain": [
       "<matplotlib.figure.Figure at 0x10cbe1b10>"
      ]
     },
     "metadata": {},
     "output_type": "display_data"
    }
   ],
   "source": [
    "fig = plt.figure(figsize=[10,10])\n",
    "plt.plot(wave, spec)\n",
    "plt.axvline(lyman_lim, c='r')\n",
    "plt.xscale('log')\n",
    "plt.yscale('log')\n",
    "plt.xlabel('Wavelength (Angstroms)')\n",
    "plt.ylabel('Spectrum ($\\mu$Jy)')\n",
    "plt.xlim(0,1e4)\n",
    "plt.ylim(1e-10,1e0)"
   ]
  },
  {
   "cell_type": "code",
   "execution_count": null,
   "metadata": {},
   "outputs": [],
   "source": []
  }
 ],
 "metadata": {
  "kernelspec": {
   "display_name": "Python 2",
   "language": "python",
   "name": "python2"
  },
  "language_info": {
   "codemirror_mode": {
    "name": "ipython",
    "version": 2
   },
   "file_extension": ".py",
   "mimetype": "text/x-python",
   "name": "python",
   "nbconvert_exporter": "python",
   "pygments_lexer": "ipython2",
   "version": "2.7.14"
  }
 },
 "nbformat": 4,
 "nbformat_minor": 1
}
